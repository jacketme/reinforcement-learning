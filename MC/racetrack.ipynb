{
 "cells": [
  {
   "cell_type": "code",
   "execution_count": 2,
   "metadata": {},
   "outputs": [],
   "source": [
    "import numpy as np\n",
    "import sys\n",
    "sys.path.append('C:\\Program Files\\python36\\Lib\\site-packages')\n",
    "import gym\n",
    "from gym.utils import seeding\n",
    "from gym import Env, spaces\n",
    "from gym.envs.toy_text import discrete"
   ]
  },
  {
   "cell_type": "code",
   "execution_count": 66,
   "metadata": {},
   "outputs": [],
   "source": [
    "# setup an env\n",
    "class RaceTrackEnv(Env):\n",
    "    metadata = {'render.modes':['human']}\n",
    "    \n",
    "    def __init__(self, track, max_velocity):\n",
    "        self.nS = None\n",
    "        self.noise = 0.0\n",
    "        self.track = self.get_track(track)\n",
    "        \n",
    "#         self.action_space = (discrete.)\n",
    "        self.observation_space = None\n",
    "        \n",
    "        self.start_positions = self.get_start_positions()\n",
    "        self.position = self._random_start_position()\n",
    "        self.velocity = np.array((0, 0), dtype=int)\n",
    "        self.max_velocity = max_velocity\n",
    "        self.action_space = [(1, 1), (1, 0), (1, -1), (0, 1), (0, 0), (0, -1), (-1, 1), (-1, 0), (-1, -1)]\n",
    "        self.finished = False\n",
    "        \n",
    "    # return a list that contains start positions\n",
    "    def get_start_positions(self):\n",
    "        positions = []\n",
    "        for i in range(self.track.shape[0]):\n",
    "            for j in range(self.track.shape[1]):\n",
    "                if self.track[i][j] == -2:\n",
    "                    positions.append((i, j))\n",
    "        return positions\n",
    "    \n",
    "    def sample_action(self):\n",
    "        rand_index = np.random.choice(range(len(self.action_space)))\n",
    "        return np.array(self.action_space[rand_index])\n",
    "    \n",
    "    # according to state and velocity cal the path\n",
    "    def step(self, action):\n",
    "        self.update_velocity(action)\n",
    "        self.position = self._update_position()\n",
    "        \n",
    "    # now only cal the end position, it has a bug that car can get through a wall;    \n",
    "    def _update_position(self):\n",
    "        for tstep in range(0, self.max_velocity + 1):\n",
    "            t = tstep / self.max_velocity\n",
    "            pos = self.position + np.round(self.velocity * t).astype(np.int16)\n",
    "            # first judge the wall, then finish line\n",
    "            if self._is_boundary(pos):\n",
    "                self.position = self._random_start_position()\n",
    "                self.velocity = np.array((0, 0), dtype=int)\n",
    "            elif self._is_finished(pos):\n",
    "                self.position = pos\n",
    "                self.velocity = np.array((0, 0), dtype=int)\n",
    "                self.finished = True\n",
    "                return\n",
    "        return pos\n",
    "    \n",
    "    # state is like (x, y)\n",
    "    def _is_finished(self, pos):\n",
    "        x, y = pos\n",
    "        if self.track[x][y] == -1:\n",
    "            return True\n",
    "    \n",
    "    def _is_boundary(self, pos):\n",
    "        x, y = pos\n",
    "        if x >= self.track.shape[0] or x < 0 or y >= self.track.shape[1] or y < 0:\n",
    "            return True\n",
    "        elif self.track[x][y] == 1:\n",
    "            return True\n",
    "    \n",
    "    # velocitys' components must be in (0, max_velocity)\n",
    "    def update_velocity(self, action):\n",
    "        v1, v2 = self.velocity\n",
    "        delta_v1, delta_v2 = action\n",
    "        v1 += delta_v1\n",
    "        v2 += delta_v2\n",
    "        v1 = max(min(self.max_velocity, v1), 0)\n",
    "        v2 = max(min(self.max_velocity, v2), 0)\n",
    "        self.velocity = np.array((v1, v2), dtype=int)\n",
    "    \n",
    "    def seed(self, seed=None):\n",
    "        self.np_random, seed = seeding.np_random(seed)\n",
    "        return [seed]\n",
    "    \n",
    "    def reset(self):\n",
    "        # position, velocity\n",
    "        self.position = self._random_start_position()\n",
    "        self.velocity = np.array((0, 0), dtype=int)\n",
    "        self.finished = False\n",
    "        \n",
    "    def _random_start_position(self):\n",
    "        index = np.random.choice(range(len(self.start_positions)))\n",
    "        return self.start_positions[index]\n",
    "    \n",
    "    # store track as numpy array\n",
    "    # -2 start position\n",
    "    # -1 end position\n",
    "    # 1 wall\n",
    "    # 0 track\n",
    "    def get_track(self, track):\n",
    "        shape1 = len(track[0])\n",
    "        shape0 = len(track)\n",
    "        mytrack = np.zeros((shape0, shape1))\n",
    "        for i in range(shape0):\n",
    "            for j in range(shape1):\n",
    "                if track[i][j] == 'W':\n",
    "                    mytrack[i][j] = 1\n",
    "                elif track[i][j] == 'o':\n",
    "                    mytrack[i][j] = 0\n",
    "                elif track[i][j] == '+':\n",
    "                    mytrack[i][j] = -1\n",
    "                else:\n",
    "                    mytrack[i][j] = -2\n",
    "        return mytrack\n"
   ]
  },
  {
   "cell_type": "code",
   "execution_count": 67,
   "metadata": {},
   "outputs": [],
   "source": [
    "env = RaceTrackEnv(track, 5)"
   ]
  },
  {
   "cell_type": "code",
   "execution_count": null,
   "metadata": {},
   "outputs": [],
   "source": [
    "def monte_carlo_control():\n",
    "    pass\n",
    "\n",
    "def policy_eval():\n",
    "    pass"
   ]
  },
  {
   "cell_type": "code",
   "execution_count": 28,
   "metadata": {},
   "outputs": [
    {
     "data": {
      "text/plain": [
       "[(32, 4), (32, 5), (32, 6), (32, 7), (32, 8), (32, 9)]"
      ]
     },
     "execution_count": 28,
     "metadata": {},
     "output_type": "execute_result"
    }
   ],
   "source": [
    "env.start_positions"
   ]
  },
  {
   "cell_type": "code",
   "execution_count": 68,
   "metadata": {},
   "outputs": [],
   "source": [
    "action = env.sample_action()"
   ]
  },
  {
   "cell_type": "code",
   "execution_count": 70,
   "metadata": {},
   "outputs": [
    {
     "data": {
      "text/plain": [
       "(32, 7)"
      ]
     },
     "execution_count": 70,
     "metadata": {},
     "output_type": "execute_result"
    }
   ],
   "source": [
    "env.position"
   ]
  },
  {
   "cell_type": "code",
   "execution_count": 71,
   "metadata": {},
   "outputs": [],
   "source": [
    "env.step(action)"
   ]
  },
  {
   "cell_type": "code",
   "execution_count": 73,
   "metadata": {},
   "outputs": [
    {
     "data": {
      "text/plain": [
       "array([0, 0])"
      ]
     },
     "execution_count": 73,
     "metadata": {},
     "output_type": "execute_result"
    }
   ],
   "source": [
    "env.velocity"
   ]
  },
  {
   "cell_type": "code",
   "execution_count": 60,
   "metadata": {},
   "outputs": [
    {
     "data": {
      "text/plain": [
       "array([0, 0])"
      ]
     },
     "execution_count": 60,
     "metadata": {},
     "output_type": "execute_result"
    }
   ],
   "source": [
    "env.velocity"
   ]
  },
  {
   "cell_type": "code",
   "execution_count": 35,
   "metadata": {},
   "outputs": [
    {
     "data": {
      "text/plain": [
       "(0, 1)"
      ]
     },
     "execution_count": 35,
     "metadata": {},
     "output_type": "execute_result"
    }
   ],
   "source": [
    "env.velocity * "
   ]
  },
  {
   "cell_type": "code",
   "execution_count": 7,
   "metadata": {},
   "outputs": [],
   "source": [
    "track = ['WWWWWWWWWWWWWWWWWW',\n",
    "          'WWWWooooooooooooo+',\n",
    "          'WWWoooooooooooooo+',\n",
    "          'WWWoooooooooooooo+',\n",
    "          'WWooooooooooooooo+',\n",
    "          'Woooooooooooooooo+',\n",
    "          'Woooooooooooooooo+',\n",
    "          'WooooooooooWWWWWWW',\n",
    "          'WoooooooooWWWWWWWW',\n",
    "          'WoooooooooWWWWWWWW',\n",
    "          'WoooooooooWWWWWWWW',\n",
    "          'WoooooooooWWWWWWWW',\n",
    "          'WoooooooooWWWWWWWW',\n",
    "          'WoooooooooWWWWWWWW',\n",
    "          'WoooooooooWWWWWWWW',\n",
    "          'WWooooooooWWWWWWWW',\n",
    "          'WWooooooooWWWWWWWW',\n",
    "          'WWooooooooWWWWWWWW',\n",
    "          'WWooooooooWWWWWWWW',\n",
    "          'WWooooooooWWWWWWWW',\n",
    "          'WWooooooooWWWWWWWW',\n",
    "          'WWooooooooWWWWWWWW',\n",
    "          'WWooooooooWWWWWWWW',\n",
    "          'WWWoooooooWWWWWWWW',\n",
    "          'WWWoooooooWWWWWWWW',\n",
    "          'WWWoooooooWWWWWWWW',\n",
    "          'WWWoooooooWWWWWWWW',\n",
    "          'WWWoooooooWWWWWWWW',\n",
    "          'WWWoooooooWWWWWWWW',\n",
    "          'WWWoooooooWWWWWWWW',\n",
    "          'WWWWooooooWWWWWWWW',\n",
    "          'WWWWooooooWWWWWWWW',\n",
    "          'WWWW------WWWWWWWW']"
   ]
  }
 ],
 "metadata": {
  "kernelspec": {
   "display_name": "'Python Interactive'",
   "language": "python",
   "name": "8ec60fef-d20f-45df-9702-80b86ae814bd"
  },
  "language_info": {
   "codemirror_mode": {
    "name": "ipython",
    "version": 3
   },
   "file_extension": ".py",
   "mimetype": "text/x-python",
   "name": "python",
   "nbconvert_exporter": "python",
   "pygments_lexer": "ipython3",
   "version": "3.7.3"
  }
 },
 "nbformat": 4,
 "nbformat_minor": 2
}
