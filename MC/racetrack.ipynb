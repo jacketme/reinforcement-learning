{
 "cells": [
  {
   "cell_type": "code",
   "execution_count": 32,
   "metadata": {},
   "outputs": [],
   "source": [
    "import numpy as np\n",
    "import sys\n",
    "sys.path.append('C:\\Program Files\\python36\\Lib\\site-packages')\n",
    "import gym\n",
    "from gym.utils import seeding\n",
    "from gym import Env, spaces\n",
    "from gym.envs.toy_text import discrete"
   ]
  },
  {
   "cell_type": "code",
   "execution_count": null,
   "metadata": {},
   "outputs": [],
   "source": [
    "# setup an env\n",
    "class RaceTrackEnv(Env):\n",
    "    metadata = {'render.modes':['human']}\n",
    "    \n",
    "    def __init__(self, track, max_velocity):\n",
    "        self.nS = None\n",
    "        self.noise = 0.0\n",
    "        self.track = set_track(track)\n",
    "        \n",
    "#         self.action_space = (discrete.)\n",
    "        self.observation_space = None\n",
    "        \n",
    "        self.start_positions = get_start_positions()\n",
    "        self.position = _random_start_position()\n",
    "        self.velocity = np.array((0, 0), dtype=int)\n",
    "        self.max_velocity = max_velocity\n",
    "        self.action_space = [(1, 1), (1, 0), (1, -1), (0, 1), (0, 0), (0, -1), (-1, 1), (-1, 0), (-1, -1)]\n",
    "        \n",
    "    # return a list that contains start positions\n",
    "    def get_start_positions(self):\n",
    "        positions = []\n",
    "        for i in range(self.track.shape[0]):\n",
    "            for j in range(self.track.shape[1]):\n",
    "                if self.track[i][j] == -2:\n",
    "                    positions.append((i, j))\n",
    "        return positions\n",
    "    \n",
    "    \n",
    "    # according to state and velocity cal the path\n",
    "    def _cal_projected_path(self, ):\n",
    "        pass\n",
    "        return np.array([])\n",
    "    \n",
    "    # state is like (x, y)\n",
    "    def _is_finished(self, pos):\n",
    "        x, y = pos\n",
    "        if self.track[x][y] == -1:\n",
    "            return True\n",
    "    \n",
    "    def _is_boundary(self, pos):\n",
    "        x, y = pos\n",
    "        if self.track[x][y] == 1:\n",
    "            return True\n",
    "    \n",
    "    # velocitys' components must be in (0, max_velocity)\n",
    "    def update_velocity(self, action):\n",
    "        v1, v2 = self.velocity\n",
    "        delta_v1, delta_v2 = action\n",
    "        v1 += delta_v1\n",
    "        v2 += delta_v2\n",
    "        v1 = max(min(self.max_velocity, v1), 0)\n",
    "        v2 = max(min(self.max_velocity, v2), 0)\n",
    "        self.velocity = (v1, v2)\n",
    "    \n",
    "    def step():\n",
    "        a = policy()\n",
    "        update_velocity()\n",
    "        if _is\n",
    "    \n",
    "    def seed(self, seed=None):\n",
    "        self.np_random, seed = seeding.np_random(seed)\n",
    "        return [seed]\n",
    "    \n",
    "    def reset(self):\n",
    "        # position, velocity\n",
    "        self.position = _random_start_position()\n",
    "        self.velocity = np.array((0, 0), dtype=int)\n",
    "        \n",
    "    def _random_start_position(self):\n",
    "        index = np.random.choice(range(len(self.start_positions)))\n",
    "        return self.start_positions[index]\n",
    "    \n",
    "    # store track as numpy array\n",
    "    def set_track(self, track):\n",
    "        shape1 = len(track[0])\n",
    "        shape0 = len(track)\n",
    "        self.track = np.zeros((shape0, shape1))\n",
    "        for i in range(shape0):\n",
    "            for j in range(shape1):\n",
    "                if track[i][j] == 'W':\n",
    "                    self.track[i][j] = 1\n",
    "                elif track[i][j] == 'o':\n",
    "                    self.track[i][j] = 0\n",
    "                elif track[i][j] == '+':\n",
    "                    self.track[i][j] = -1\n",
    "                else:\n",
    "                    self.track[j][i] = -2\n",
    "    \n",
    "    \n",
    "        "
   ]
  },
  {
   "cell_type": "code",
   "execution_count": 31,
   "metadata": {},
   "outputs": [
    {
     "data": {
      "text/plain": [
       "4"
      ]
     },
     "execution_count": 31,
     "metadata": {},
     "output_type": "execute_result"
    }
   ],
   "source": [
    "np.random.choice([1,2, 3,4])"
   ]
  },
  {
   "cell_type": "code",
   "execution_count": 26,
   "metadata": {},
   "outputs": [],
   "source": [
    "velocity = np.array((0, 0), dtype=int)"
   ]
  },
  {
   "cell_type": "code",
   "execution_count": 17,
   "metadata": {},
   "outputs": [],
   "source": [
    "track = ['WWWWWWWWWWWWWWWWWW',\n",
    "          'WWWWooooooooooooo+',\n",
    "          'WWWoooooooooooooo+',\n",
    "          'WWWoooooooooooooo+',\n",
    "          'WWooooooooooooooo+',\n",
    "          'Woooooooooooooooo+',\n",
    "          'Woooooooooooooooo+',\n",
    "          'WooooooooooWWWWWWW',\n",
    "          'WoooooooooWWWWWWWW',\n",
    "          'WoooooooooWWWWWWWW',\n",
    "          'WoooooooooWWWWWWWW',\n",
    "          'WoooooooooWWWWWWWW',\n",
    "          'WoooooooooWWWWWWWW',\n",
    "          'WoooooooooWWWWWWWW',\n",
    "          'WoooooooooWWWWWWWW',\n",
    "          'WWooooooooWWWWWWWW',\n",
    "          'WWooooooooWWWWWWWW',\n",
    "          'WWooooooooWWWWWWWW',\n",
    "          'WWooooooooWWWWWWWW',\n",
    "          'WWooooooooWWWWWWWW',\n",
    "          'WWooooooooWWWWWWWW',\n",
    "          'WWooooooooWWWWWWWW',\n",
    "          'WWooooooooWWWWWWWW',\n",
    "          'WWWoooooooWWWWWWWW',\n",
    "          'WWWoooooooWWWWWWWW',\n",
    "          'WWWoooooooWWWWWWWW',\n",
    "          'WWWoooooooWWWWWWWW',\n",
    "          'WWWoooooooWWWWWWWW',\n",
    "          'WWWoooooooWWWWWWWW',\n",
    "          'WWWoooooooWWWWWWWW',\n",
    "          'WWWWooooooWWWWWWWW',\n",
    "          'WWWWooooooWWWWWWWW',\n",
    "          'WWWW------WWWWWWWW']"
   ]
  }
 ],
 "metadata": {
  "kernelspec": {
   "display_name": "'Python Interactive'",
   "language": "python",
   "name": "8ec60fef-d20f-45df-9702-80b86ae814bd"
  },
  "language_info": {
   "codemirror_mode": {
    "name": "ipython",
    "version": 3
   },
   "file_extension": ".py",
   "mimetype": "text/x-python",
   "name": "python",
   "nbconvert_exporter": "python",
   "pygments_lexer": "ipython3",
   "version": "3.7.3"
  }
 },
 "nbformat": 4,
 "nbformat_minor": 2
}
