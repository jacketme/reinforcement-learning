{
 "cells": [
  {
   "cell_type": "code",
   "execution_count": 1,
   "metadata": {},
   "outputs": [],
   "source": [
    "# jack's car rental\n",
    "import numpy as np\n",
    "import sys\n",
    "sys.path.append('C:\\Program Files\\python36\\Lib\\site-packages')\n",
    "import gym\n",
    "from gym.utils import seeding\n",
    "from gym import Env, spaces\n",
    "from gym.envs.toy_text import discrete"
   ]
  },
  {
   "cell_type": "code",
   "execution_count": 39,
   "metadata": {},
   "outputs": [],
   "source": [
    "# car rental enviroment\n",
    "# distribution model is difficult, try to establish a sample model\n",
    "\n",
    "def categorical_sample(prob_n, np_random):\n",
    "    prob_n = np.asarray(prob_n)\n",
    "    csprob_n = np.cumsum(prob_n)\n",
    "    return (csprob_n > np_random.rand()).argmax()\n",
    "\n",
    "class CarRentalEnv(Env):\n",
    "    # action means take how many cars from place one to place two, -5 means take 5 cars from place two to place one\n",
    "    def __init__(self, max_cars, max_removeable_cars, isd=None):\n",
    "        self.max_cars = max_cars\n",
    "        self.nS = max_cars ** 2\n",
    "        self.nA = 2 * max_removeable_cars + 1\n",
    "        if isd == None:\n",
    "            self.isd = np.ones(self.nS) / self.nS\n",
    "        self.max_removeable_cars = max_removeable_cars\n",
    "        self.shape = (max_cars, max_cars)\n",
    "        self.observation_space = spaces.Discrete(self.nS)\n",
    "        self.action_space = spaces.Discrete(self.nA)\n",
    "\n",
    "        self.seed()\n",
    "        self.s = categorical_sample(self.isd, self.np_random)\n",
    "        self.lastaction = None\n",
    "\n",
    "    def seed(self, seed=None):\n",
    "        self.np_random, seed = seeding.np_random(seed)\n",
    "        return [seed]\n",
    "\n",
    "    def _render(self):\n",
    "        pass\n",
    "    \n",
    "    def reset(self):\n",
    "        self.s = categorical_sample(self.isd, self.np_random)\n",
    "        self.lastaction = None\n",
    "        return self.s\n",
    "    \n",
    "    def step(self,a):\n",
    "        x, y = np.unravel_index(self.s, self.shape)\n",
    "        # resize action\n",
    "        if a - self.max_removeable_cars > x:\n",
    "            a = self.max_removeable_cars + x\n",
    "        if self.max_removeable_cars - a > y:\n",
    "            a = self.max_removeable_cars - y\n",
    "        available_x = x - (a - self.max_removeable_cars)\n",
    "        available_y = y + (a - self.max_removeable_cars)\n",
    "        # sample rent cars and return cars\n",
    "        rent_cars_in_x = np.random.poisson(3)\n",
    "        print(f\"{rent_cars_in_x} cars wanted in place one\")\n",
    "        return_cars_in_x = np.random.poisson(3)\n",
    "        print(f\"{return_cars_in_x} cars returned in place one\")\n",
    "        actual_rent_cars_in_x = min(rent_cars_in_x, available_x)\n",
    "        print(f\"{actual_rent_cars_in_x} cars rented actually\")\n",
    "        newx = min(available_x - actual_rent_cars_in_x + return_cars_in_x, self.max_cars)\n",
    "        print(f\"newx is {newx}\")\n",
    "              \n",
    "        rent_cars_in_y = np.random.poisson(4)\n",
    "        print(f\"{rent_cars_in_y} cars wanted in place two\")\n",
    "        return_cars_in_y = np.random.poisson(2)\n",
    "        print(f\"{return_cars_in_y} cars returned in place two\")\n",
    "        actual_rent_cars_in_y = min(rent_cars_in_y, available_y)\n",
    "        print(f\"{actual_rent_cars_in_y} cars rented actually\")\n",
    "        newy = min(available_y - actual_rent_cars_in_y + return_cars_in_y, self.max_cars)\n",
    "        print(f\"newy is {newy}\")\n",
    "              \n",
    "        s = np.ravel_multi_index((newx, newy), self.shape)\n",
    "        self.s = s\n",
    "        self.lastaction = a\n",
    "        rewards = 10 * (actual_rent_cars_in_x + actual_rent_cars_in_y) - 2 * abs(a - self.max_removeable_cars)\n",
    "        # output infomation\n",
    "        if a < self.max_removeable_cars:\n",
    "            print(f\"Action: Take {self.max_removeable_cars - a} cars  from place two to place one\")\n",
    "        elif a == self.max_removeable_cars:\n",
    "            print(f\"Action: No cars are moved\")\n",
    "        else:\n",
    "            print(f\"Action: Take {a - self.max_removeable_cars} cars from place two to place one\")\n",
    "        print(f\"Next State is ({newx},{newy})\")\n",
    "        return (s, rewards, False, '')"
   ]
  },
  {
   "cell_type": "code",
   "execution_count": 40,
   "metadata": {},
   "outputs": [],
   "source": [
    "# policy iteration to solve the car rental problem\n",
    "env = CarRentalEnv(20, 5)"
   ]
  },
  {
   "cell_type": "code",
   "execution_count": 41,
   "metadata": {},
   "outputs": [
    {
     "data": {
      "text/plain": [
       "(1, 8)"
      ]
     },
     "execution_count": 41,
     "metadata": {},
     "output_type": "execute_result"
    }
   ],
   "source": [
    "env.s\n",
    "np.unravel_index(env.s, env.shape)"
   ]
  },
  {
   "cell_type": "code",
   "execution_count": 70,
   "metadata": {},
   "outputs": [
    {
     "name": "stdout",
     "output_type": "stream",
     "text": [
      "1 cars wanted in place one\n",
      "2 cars returned in place one\n",
      "1 cars rented actually\n",
      "newx is 6\n",
      "5 cars wanted in place two\n",
      "0 cars returned in place two\n",
      "3 cars rented actually\n",
      "newy is 0\n",
      "Action: Take 2 cars  from place two to place one\n",
      "Next State is (6,0)\n"
     ]
    },
    {
     "data": {
      "text/plain": [
       "(120, 36, False, '')"
      ]
     },
     "execution_count": 70,
     "metadata": {},
     "output_type": "execute_result"
    }
   ],
   "source": [
    "env.step(3)\n"
   ]
  },
  {
   "cell_type": "code",
   "execution_count": 68,
   "metadata": {},
   "outputs": [],
   "source": [
    "policy = np.random.randint(9, size=(20, 20))\n",
    "for i in range(20):\n",
    "    for j in range(20):\n",
    "        if policy[i, j] - 5 > i:\n",
    "            policy[i, j] = 5 + i\n",
    "        if 5 - policy[i, j] > j:\n",
    "            policy[i, j] = 5 - j"
   ]
  },
  {
   "cell_type": "code",
   "execution_count": 69,
   "metadata": {},
   "outputs": [
    {
     "data": {
      "text/plain": [
       "array([[5, 5, 5, 5, 4, 5, 4, 1, 1, 3, 1, 5, 3, 5, 5, 5, 5, 3, 5, 5],\n",
       "       [5, 4, 6, 2, 4, 6, 6, 3, 6, 6, 6, 5, 5, 2, 2, 1, 1, 0, 2, 6],\n",
       "       [5, 4, 4, 6, 2, 1, 4, 7, 0, 5, 7, 0, 2, 1, 1, 5, 7, 7, 5, 7],\n",
       "       [5, 4, 5, 8, 1, 1, 4, 0, 4, 8, 8, 8, 4, 7, 0, 8, 4, 5, 3, 2],\n",
       "       [6, 8, 3, 5, 6, 8, 4, 6, 8, 7, 5, 0, 0, 2, 3, 5, 2, 6, 5, 7],\n",
       "       [7, 4, 3, 5, 1, 3, 1, 7, 0, 2, 4, 3, 7, 2, 2, 7, 2, 4, 0, 1],\n",
       "       [5, 5, 5, 7, 1, 5, 7, 0, 2, 7, 4, 7, 8, 1, 4, 0, 8, 7, 6, 6],\n",
       "       [5, 6, 3, 2, 7, 2, 0, 6, 5, 4, 3, 2, 6, 3, 3, 6, 1, 3, 1, 3],\n",
       "       [5, 4, 4, 3, 5, 5, 7, 5, 4, 7, 6, 8, 4, 7, 1, 4, 0, 7, 0, 8],\n",
       "       [5, 7, 3, 2, 2, 3, 2, 7, 1, 5, 3, 0, 5, 3, 8, 2, 3, 4, 5, 6],\n",
       "       [5, 4, 3, 4, 5, 2, 0, 3, 8, 2, 0, 2, 8, 0, 2, 1, 7, 0, 1, 0],\n",
       "       [5, 4, 3, 3, 1, 1, 5, 1, 5, 7, 8, 5, 8, 5, 3, 2, 8, 5, 0, 8],\n",
       "       [5, 8, 3, 2, 5, 5, 4, 0, 8, 4, 1, 3, 8, 0, 2, 1, 3, 7, 6, 6],\n",
       "       [6, 6, 3, 2, 1, 6, 3, 0, 8, 2, 2, 4, 6, 5, 3, 1, 0, 1, 5, 4],\n",
       "       [5, 8, 3, 2, 1, 0, 6, 2, 1, 2, 1, 6, 7, 5, 0, 8, 3, 3, 6, 0],\n",
       "       [5, 4, 4, 4, 6, 2, 3, 4, 6, 2, 4, 6, 8, 8, 6, 2, 2, 1, 6, 5],\n",
       "       [5, 4, 3, 6, 8, 5, 8, 7, 3, 1, 4, 7, 5, 1, 4, 3, 3, 0, 5, 3],\n",
       "       [5, 8, 3, 8, 7, 2, 5, 4, 0, 4, 2, 6, 3, 6, 6, 5, 4, 0, 2, 7],\n",
       "       [5, 6, 3, 7, 6, 5, 4, 3, 0, 1, 3, 2, 2, 0, 7, 7, 1, 2, 8, 3],\n",
       "       [5, 4, 3, 7, 7, 1, 7, 6, 7, 6, 0, 0, 2, 2, 5, 5, 6, 3, 4, 7]])"
      ]
     },
     "execution_count": 69,
     "metadata": {},
     "output_type": "execute_result"
    }
   ],
   "source": [
    "policy\n",
    "            "
   ]
  },
  {
   "cell_type": "code",
   "execution_count": null,
   "metadata": {},
   "outputs": [],
   "source": [
    "env = CarRentalEnv(20, 5)\n",
    "def policy_evaluation(env, policy, lam=0.9):\n",
    "    # init V values\n",
    "    V = np.zeros(env.shape)\n",
    "    x, y = np.unravel_index(env.s, env.shape)\n",
    "    a = policy[x][y]\n",
    "    next_state, reward, _, _ = env.step(a)\n",
    "    "
   ]
  }
 ],
 "metadata": {
  "file_extension": ".py",
  "kernelspec": {
   "display_name": "Python 3",
   "language": "python",
   "name": "python3"
  },
  "language_info": {
   "codemirror_mode": {
    "name": "ipython",
    "version": 3
   },
   "file_extension": ".py",
   "mimetype": "text/x-python",
   "name": "python",
   "nbconvert_exporter": "python",
   "pygments_lexer": "ipython3",
   "version": "3.7.3"
  },
  "mimetype": "text/x-python",
  "name": "python",
  "npconvert_exporter": "python",
  "pygments_lexer": "ipython3",
  "version": 3
 },
 "nbformat": 4,
 "nbformat_minor": 1
}
